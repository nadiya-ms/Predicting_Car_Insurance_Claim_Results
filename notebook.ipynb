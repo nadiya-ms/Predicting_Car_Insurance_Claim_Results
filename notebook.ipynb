{
 "cells": [
  {
   "cell_type": "code",
   "execution_count": 24,
   "id": "d0eb4f16-5a99-460d-a5ba-706b7ef0bbe7",
   "metadata": {
    "executionCancelledAt": null,
    "executionTime": 55,
    "id": "bA5ajAmk7XH6",
    "lastExecutedAt": 1738269034813,
    "lastExecutedByKernel": "776cdc7e-48f6-40c1-862f-7c2be3ee9cd5",
    "lastScheduledRunId": null,
    "lastSuccessfullyExecutedCode": "# Import required modules\nimport pandas as pd\nimport numpy as np\nfrom statsmodels.formula.api import logit\n\ncars = pd.read_csv(\"car_insurance.csv\")\ncars.info()",
    "outputsMetadata": {
     "0": {
      "height": 542,
      "type": "stream"
     }
    }
   },
   "outputs": [
    {
     "name": "stdout",
     "output_type": "stream",
     "text": [
      "<class 'pandas.core.frame.DataFrame'>\n",
      "RangeIndex: 10000 entries, 0 to 9999\n",
      "Data columns (total 18 columns):\n",
      " #   Column               Non-Null Count  Dtype  \n",
      "---  ------               --------------  -----  \n",
      " 0   id                   10000 non-null  int64  \n",
      " 1   age                  10000 non-null  int64  \n",
      " 2   gender               10000 non-null  int64  \n",
      " 3   driving_experience   10000 non-null  object \n",
      " 4   education            10000 non-null  object \n",
      " 5   income               10000 non-null  object \n",
      " 6   credit_score         9018 non-null   float64\n",
      " 7   vehicle_ownership    10000 non-null  float64\n",
      " 8   vehicle_year         10000 non-null  object \n",
      " 9   married              10000 non-null  float64\n",
      " 10  children             10000 non-null  float64\n",
      " 11  postal_code          10000 non-null  int64  \n",
      " 12  annual_mileage       9043 non-null   float64\n",
      " 13  vehicle_type         10000 non-null  object \n",
      " 14  speeding_violations  10000 non-null  int64  \n",
      " 15  duis                 10000 non-null  int64  \n",
      " 16  past_accidents       10000 non-null  int64  \n",
      " 17  outcome              10000 non-null  float64\n",
      "dtypes: float64(6), int64(7), object(5)\n",
      "memory usage: 1.4+ MB\n"
     ]
    }
   ],
   "source": [
    "# Import required modules\n",
    "import pandas as pd\n",
    "import numpy as np\n",
    "from statsmodels.formula.api import logit\n",
    "\n",
    "cars = pd.read_csv(\"car_insurance.csv\")\n",
    "cars.info()"
   ]
  },
  {
   "cell_type": "code",
   "execution_count": 25,
   "id": "74c25d62-c56e-420d-a4cd-fa7d2eeebc1e",
   "metadata": {
    "executionCancelledAt": null,
    "executionTime": 68,
    "lastExecutedAt": 1738269034881,
    "lastExecutedByKernel": "776cdc7e-48f6-40c1-862f-7c2be3ee9cd5",
    "lastScheduledRunId": null,
    "lastSuccessfullyExecutedCode": "cars.head()",
    "outputsMetadata": {
     "0": {
      "height": 261,
      "tableState": {
       "quickFilterText": ""
      },
      "type": "dataFrame"
     }
    }
   },
   "outputs": [
    {
     "data": {
      "application/com.datacamp.data-table.v2+json": {
       "table": {
        "data": {
         "age": [
          3,
          0,
          0,
          0,
          1
         ],
         "annual_mileage": [
          12000,
          16000,
          11000,
          11000,
          12000
         ],
         "children": [
          1,
          0,
          0,
          1,
          0
         ],
         "credit_score": [
          0.6290273139,
          0.357757117,
          0.4931457852,
          0.2060128507,
          0.3883658882
         ],
         "driving_experience": [
          "0-9y",
          "0-9y",
          "0-9y",
          "0-9y",
          "10-19y"
         ],
         "duis": [
          0,
          0,
          0,
          0,
          0
         ],
         "education": [
          "high school",
          "none",
          "high school",
          "university",
          "none"
         ],
         "gender": [
          0,
          1,
          0,
          1,
          1
         ],
         "id": [
          569520,
          750365,
          199901,
          478866,
          731664
         ],
         "income": [
          "upper class",
          "poverty",
          "working class",
          "working class",
          "working class"
         ],
         "index": [
          0,
          1,
          2,
          3,
          4
         ],
         "married": [
          0,
          0,
          0,
          0,
          0
         ],
         "outcome": [
          0,
          1,
          0,
          0,
          1
         ],
         "past_accidents": [
          0,
          0,
          0,
          0,
          1
         ],
         "postal_code": [
          10238,
          10238,
          10238,
          32765,
          32765
         ],
         "speeding_violations": [
          0,
          0,
          0,
          0,
          2
         ],
         "vehicle_ownership": [
          1,
          0,
          1,
          1,
          1
         ],
         "vehicle_type": [
          "sedan",
          "sedan",
          "sedan",
          "sedan",
          "sedan"
         ],
         "vehicle_year": [
          "after 2015",
          "before 2015",
          "before 2015",
          "before 2015",
          "before 2015"
         ]
        },
        "schema": {
         "fields": [
          {
           "name": "index",
           "type": "integer"
          },
          {
           "name": "id",
           "type": "integer"
          },
          {
           "name": "age",
           "type": "integer"
          },
          {
           "name": "gender",
           "type": "integer"
          },
          {
           "name": "driving_experience",
           "type": "string"
          },
          {
           "name": "education",
           "type": "string"
          },
          {
           "name": "income",
           "type": "string"
          },
          {
           "name": "credit_score",
           "type": "number"
          },
          {
           "name": "vehicle_ownership",
           "type": "number"
          },
          {
           "name": "vehicle_year",
           "type": "string"
          },
          {
           "name": "married",
           "type": "number"
          },
          {
           "name": "children",
           "type": "number"
          },
          {
           "name": "postal_code",
           "type": "integer"
          },
          {
           "name": "annual_mileage",
           "type": "number"
          },
          {
           "name": "vehicle_type",
           "type": "string"
          },
          {
           "name": "speeding_violations",
           "type": "integer"
          },
          {
           "name": "duis",
           "type": "integer"
          },
          {
           "name": "past_accidents",
           "type": "integer"
          },
          {
           "name": "outcome",
           "type": "number"
          }
         ],
         "pandas_version": "1.4.0",
         "primaryKey": [
          "index"
         ]
        }
       },
       "total_rows": 5,
       "truncation_type": null
      },
      "text/html": [
       "<div>\n",
       "<style scoped>\n",
       "    .dataframe tbody tr th:only-of-type {\n",
       "        vertical-align: middle;\n",
       "    }\n",
       "\n",
       "    .dataframe tbody tr th {\n",
       "        vertical-align: top;\n",
       "    }\n",
       "\n",
       "    .dataframe thead th {\n",
       "        text-align: right;\n",
       "    }\n",
       "</style>\n",
       "<table border=\"1\" class=\"dataframe\">\n",
       "  <thead>\n",
       "    <tr style=\"text-align: right;\">\n",
       "      <th></th>\n",
       "      <th>id</th>\n",
       "      <th>age</th>\n",
       "      <th>gender</th>\n",
       "      <th>driving_experience</th>\n",
       "      <th>education</th>\n",
       "      <th>income</th>\n",
       "      <th>credit_score</th>\n",
       "      <th>vehicle_ownership</th>\n",
       "      <th>vehicle_year</th>\n",
       "      <th>married</th>\n",
       "      <th>children</th>\n",
       "      <th>postal_code</th>\n",
       "      <th>annual_mileage</th>\n",
       "      <th>vehicle_type</th>\n",
       "      <th>speeding_violations</th>\n",
       "      <th>duis</th>\n",
       "      <th>past_accidents</th>\n",
       "      <th>outcome</th>\n",
       "    </tr>\n",
       "  </thead>\n",
       "  <tbody>\n",
       "    <tr>\n",
       "      <th>0</th>\n",
       "      <td>569520</td>\n",
       "      <td>3</td>\n",
       "      <td>0</td>\n",
       "      <td>0-9y</td>\n",
       "      <td>high school</td>\n",
       "      <td>upper class</td>\n",
       "      <td>0.629027</td>\n",
       "      <td>1.0</td>\n",
       "      <td>after 2015</td>\n",
       "      <td>0.0</td>\n",
       "      <td>1.0</td>\n",
       "      <td>10238</td>\n",
       "      <td>12000.0</td>\n",
       "      <td>sedan</td>\n",
       "      <td>0</td>\n",
       "      <td>0</td>\n",
       "      <td>0</td>\n",
       "      <td>0.0</td>\n",
       "    </tr>\n",
       "    <tr>\n",
       "      <th>1</th>\n",
       "      <td>750365</td>\n",
       "      <td>0</td>\n",
       "      <td>1</td>\n",
       "      <td>0-9y</td>\n",
       "      <td>none</td>\n",
       "      <td>poverty</td>\n",
       "      <td>0.357757</td>\n",
       "      <td>0.0</td>\n",
       "      <td>before 2015</td>\n",
       "      <td>0.0</td>\n",
       "      <td>0.0</td>\n",
       "      <td>10238</td>\n",
       "      <td>16000.0</td>\n",
       "      <td>sedan</td>\n",
       "      <td>0</td>\n",
       "      <td>0</td>\n",
       "      <td>0</td>\n",
       "      <td>1.0</td>\n",
       "    </tr>\n",
       "    <tr>\n",
       "      <th>2</th>\n",
       "      <td>199901</td>\n",
       "      <td>0</td>\n",
       "      <td>0</td>\n",
       "      <td>0-9y</td>\n",
       "      <td>high school</td>\n",
       "      <td>working class</td>\n",
       "      <td>0.493146</td>\n",
       "      <td>1.0</td>\n",
       "      <td>before 2015</td>\n",
       "      <td>0.0</td>\n",
       "      <td>0.0</td>\n",
       "      <td>10238</td>\n",
       "      <td>11000.0</td>\n",
       "      <td>sedan</td>\n",
       "      <td>0</td>\n",
       "      <td>0</td>\n",
       "      <td>0</td>\n",
       "      <td>0.0</td>\n",
       "    </tr>\n",
       "    <tr>\n",
       "      <th>3</th>\n",
       "      <td>478866</td>\n",
       "      <td>0</td>\n",
       "      <td>1</td>\n",
       "      <td>0-9y</td>\n",
       "      <td>university</td>\n",
       "      <td>working class</td>\n",
       "      <td>0.206013</td>\n",
       "      <td>1.0</td>\n",
       "      <td>before 2015</td>\n",
       "      <td>0.0</td>\n",
       "      <td>1.0</td>\n",
       "      <td>32765</td>\n",
       "      <td>11000.0</td>\n",
       "      <td>sedan</td>\n",
       "      <td>0</td>\n",
       "      <td>0</td>\n",
       "      <td>0</td>\n",
       "      <td>0.0</td>\n",
       "    </tr>\n",
       "    <tr>\n",
       "      <th>4</th>\n",
       "      <td>731664</td>\n",
       "      <td>1</td>\n",
       "      <td>1</td>\n",
       "      <td>10-19y</td>\n",
       "      <td>none</td>\n",
       "      <td>working class</td>\n",
       "      <td>0.388366</td>\n",
       "      <td>1.0</td>\n",
       "      <td>before 2015</td>\n",
       "      <td>0.0</td>\n",
       "      <td>0.0</td>\n",
       "      <td>32765</td>\n",
       "      <td>12000.0</td>\n",
       "      <td>sedan</td>\n",
       "      <td>2</td>\n",
       "      <td>0</td>\n",
       "      <td>1</td>\n",
       "      <td>1.0</td>\n",
       "    </tr>\n",
       "  </tbody>\n",
       "</table>\n",
       "</div>"
      ],
      "text/plain": [
       "       id  age  gender  ... duis past_accidents outcome\n",
       "0  569520    3       0  ...    0              0     0.0\n",
       "1  750365    0       1  ...    0              0     1.0\n",
       "2  199901    0       0  ...    0              0     0.0\n",
       "3  478866    0       1  ...    0              0     0.0\n",
       "4  731664    1       1  ...    0              1     1.0\n",
       "\n",
       "[5 rows x 18 columns]"
      ]
     },
     "execution_count": 25,
     "metadata": {
      "application/com.datacamp.data-table.v2+json": {
       "status": "success"
      }
     },
     "output_type": "execute_result"
    }
   ],
   "source": [
    "cars.head()"
   ]
  },
  {
   "cell_type": "code",
   "execution_count": 26,
   "id": "0154a1bc-4383-4c18-8daa-c33ba8cde617",
   "metadata": {
    "executionCancelledAt": null,
    "executionTime": 50,
    "lastExecutedAt": 1738269034931,
    "lastExecutedByKernel": "776cdc7e-48f6-40c1-862f-7c2be3ee9cd5",
    "lastScheduledRunId": null,
    "lastSuccessfullyExecutedCode": "# Fill missing values with the mean\ncars[\"credit_score\"].fillna(cars[\"credit_score\"].mean(), inplace=True)\ncars[\"annual_mileage\"].fillna(cars[\"annual_mileage\"].mean(), inplace=True)"
   },
   "outputs": [],
   "source": [
    "# Fill missing values with the mean\n",
    "cars[\"credit_score\"].fillna(cars[\"credit_score\"].mean(), inplace=True)\n",
    "cars[\"annual_mileage\"].fillna(cars[\"annual_mileage\"].mean(), inplace=True)"
   ]
  },
  {
   "cell_type": "code",
   "execution_count": 27,
   "id": "7f6ca469-3389-45c3-9086-382868a528e7",
   "metadata": {
    "executionCancelledAt": null,
    "executionTime": 50,
    "lastExecutedAt": 1738269034983,
    "lastExecutedByKernel": "776cdc7e-48f6-40c1-862f-7c2be3ee9cd5",
    "lastScheduledRunId": null,
    "lastSuccessfullyExecutedCode": "# Empty list to store model results\nmodels = []\n\n# Feature columns\nfeatures = cars.drop(columns=[\"id\", \"outcome\"]).columns"
   },
   "outputs": [],
   "source": [
    "# Empty list to store model results\n",
    "models = []\n",
    "\n",
    "# Feature columns\n",
    "features = cars.drop(columns=[\"id\", \"outcome\"]).columns"
   ]
  },
  {
   "cell_type": "code",
   "execution_count": 28,
   "id": "53b910aa-6e78-4709-9337-f2062c29722f",
   "metadata": {
    "executionCancelledAt": null,
    "executionTime": 3195,
    "lastExecutedAt": 1738269038180,
    "lastExecutedByKernel": "776cdc7e-48f6-40c1-862f-7c2be3ee9cd5",
    "lastScheduledRunId": null,
    "lastSuccessfullyExecutedCode": "# Loop through features\nfor col in features:\n    # Create a model\n    model = logit(f\"outcome ~ {col}\", data=cars).fit()\n    # Add each model to the models list\n    models.append(model)",
    "outputsMetadata": {
     "0": {
      "height": 551,
      "type": "stream"
     }
    }
   },
   "outputs": [
    {
     "name": "stdout",
     "output_type": "stream",
     "text": [
      "Optimization terminated successfully.\n",
      "         Current function value: 0.511794\n",
      "         Iterations 6\n",
      "Optimization terminated successfully.\n",
      "         Current function value: 0.615951\n",
      "         Iterations 5\n",
      "Optimization terminated successfully.\n",
      "         Current function value: 0.467092\n",
      "         Iterations 8\n",
      "Optimization terminated successfully.\n",
      "         Current function value: 0.603742\n",
      "         Iterations 5\n",
      "Optimization terminated successfully.\n",
      "         Current function value: 0.531499\n",
      "         Iterations 6\n",
      "Optimization terminated successfully.\n",
      "         Current function value: 0.572557\n",
      "         Iterations 6\n",
      "Optimization terminated successfully.\n",
      "         Current function value: 0.552412\n",
      "         Iterations 5\n",
      "Optimization terminated successfully.\n",
      "         Current function value: 0.572668\n",
      "         Iterations 6\n",
      "Optimization terminated successfully.\n",
      "         Current function value: 0.586659\n",
      "         Iterations 5\n",
      "Optimization terminated successfully.\n",
      "         Current function value: 0.595431\n",
      "         Iterations 5\n",
      "Optimization terminated successfully.\n",
      "         Current function value: 0.617345\n",
      "         Iterations 5\n",
      "Optimization terminated successfully.\n",
      "         Current function value: 0.605716\n",
      "         Iterations 5\n",
      "Optimization terminated successfully.\n",
      "         Current function value: 0.621700\n",
      "         Iterations 5\n",
      "Optimization terminated successfully.\n",
      "         Current function value: 0.558922\n",
      "         Iterations 7\n",
      "Optimization terminated successfully.\n",
      "         Current function value: 0.598699\n",
      "         Iterations 6\n",
      "Optimization terminated successfully.\n",
      "         Current function value: 0.549220\n",
      "         Iterations 7\n"
     ]
    }
   ],
   "source": [
    "# Loop through features\n",
    "for col in features:\n",
    "    # Create a model\n",
    "    model = logit(f\"outcome ~ {col}\", data=cars).fit()\n",
    "    # Add each model to the models list\n",
    "    models.append(model)"
   ]
  },
  {
   "cell_type": "code",
   "execution_count": 29,
   "id": "13302b3f-6223-4b7d-b28a-59def6a0636c",
   "metadata": {
    "executionCancelledAt": null,
    "executionTime": 386,
    "lastExecutedAt": 1738269038566,
    "lastExecutedByKernel": "776cdc7e-48f6-40c1-862f-7c2be3ee9cd5",
    "lastScheduledRunId": null,
    "lastSuccessfullyExecutedCode": "# Empty list to store accuracies\naccuracies = []\n\n# Loop through models\nfor feature in range(0, len(models)):\n    # Compute the confusion matrix\n    conf_matrix = models[feature].pred_table()\n    # True negatives\n    tn = conf_matrix[0,0]\n    # True positives\n    tp = conf_matrix[1,1]\n    # False negatives\n    fn = conf_matrix[1,0]\n    # False positives\n    fp = conf_matrix[0,1]\n    # Compute accuracy\n    acc = (tn + tp) / (tn + fn + fp + tp)\n    accuracies.append(acc)"
   },
   "outputs": [],
   "source": [
    "# Empty list to store accuracies\n",
    "accuracies = []\n",
    "\n",
    "# Loop through models\n",
    "for feature in range(0, len(models)):\n",
    "    # Compute the confusion matrix\n",
    "    conf_matrix = models[feature].pred_table()\n",
    "    # True negatives\n",
    "    tn = conf_matrix[0,0]\n",
    "    # True positives\n",
    "    tp = conf_matrix[1,1]\n",
    "    # False negatives\n",
    "    fn = conf_matrix[1,0]\n",
    "    # False positives\n",
    "    fp = conf_matrix[0,1]\n",
    "    # Compute accuracy\n",
    "    acc = (tn + tp) / (tn + fn + fp + tp)\n",
    "    accuracies.append(acc)"
   ]
  },
  {
   "cell_type": "code",
   "execution_count": 30,
   "id": "97e443b8-c02e-48c6-ae1a-28d5e21a0969",
   "metadata": {
    "executionCancelledAt": null,
    "executionTime": null,
    "lastExecutedAt": null,
    "lastExecutedByKernel": null,
    "lastScheduledRunId": null,
    "lastSuccessfullyExecutedCode": null,
    "outputsMetadata": {
     "0": {
      "height": 136,
      "tableState": {
       "customFilter": {
        "const": {
         "type": "boolean",
         "valid": true,
         "value": true
        },
        "id": "b27cf4eb-b57c-4a34-b192-c37aa1984eb9",
        "nodeType": "const"
       },
       "quickFilterText": ""
      },
      "type": "dataFrame"
     }
    }
   },
   "outputs": [
    {
     "data": {
      "application/com.datacamp.data-table.v2+json": {
       "table": {
        "data": {
         "best_accuracy": [
          0.7771
         ],
         "best_feature": [
          "driving_experience"
         ],
         "index": [
          0
         ]
        },
        "schema": {
         "fields": [
          {
           "name": "index",
           "type": "integer"
          },
          {
           "name": "best_feature",
           "type": "string"
          },
          {
           "name": "best_accuracy",
           "type": "number"
          }
         ],
         "pandas_version": "1.4.0",
         "primaryKey": [
          "index"
         ]
        }
       },
       "total_rows": 1,
       "truncation_type": null
      },
      "text/html": [
       "<div>\n",
       "<style scoped>\n",
       "    .dataframe tbody tr th:only-of-type {\n",
       "        vertical-align: middle;\n",
       "    }\n",
       "\n",
       "    .dataframe tbody tr th {\n",
       "        vertical-align: top;\n",
       "    }\n",
       "\n",
       "    .dataframe thead th {\n",
       "        text-align: right;\n",
       "    }\n",
       "</style>\n",
       "<table border=\"1\" class=\"dataframe\">\n",
       "  <thead>\n",
       "    <tr style=\"text-align: right;\">\n",
       "      <th></th>\n",
       "      <th>best_feature</th>\n",
       "      <th>best_accuracy</th>\n",
       "    </tr>\n",
       "  </thead>\n",
       "  <tbody>\n",
       "    <tr>\n",
       "      <th>0</th>\n",
       "      <td>driving_experience</td>\n",
       "      <td>0.7771</td>\n",
       "    </tr>\n",
       "  </tbody>\n",
       "</table>\n",
       "</div>"
      ],
      "text/plain": [
       "         best_feature  best_accuracy\n",
       "0  driving_experience         0.7771"
      ]
     },
     "execution_count": 30,
     "metadata": {
      "application/com.datacamp.data-table.v2+json": {
       "status": "success"
      }
     },
     "output_type": "execute_result"
    }
   ],
   "source": [
    "# Find the feature with the largest accuracy\n",
    "best_feature = features[accuracies.index(max(accuracies))]\n",
    "\n",
    "# Create best_feature_df\n",
    "best_feature_df = pd.DataFrame({\"best_feature\": best_feature,\n",
    "                                \"best_accuracy\": max(accuracies)},\n",
    "                                index=[0])\n",
    "best_feature_df"
   ]
  }
 ],
 "metadata": {
  "editor": "DataLab",
  "kernelspec": {
   "display_name": "Python 3 (ipykernel)",
   "language": "python",
   "name": "python3"
  },
  "language_info": {
   "codemirror_mode": {
    "name": "ipython",
    "version": 3
   },
   "file_extension": ".py",
   "mimetype": "text/x-python",
   "name": "python",
   "nbconvert_exporter": "python",
   "pygments_lexer": "ipython3",
   "version": "3.8.10"
  }
 },
 "nbformat": 4,
 "nbformat_minor": 5
}
